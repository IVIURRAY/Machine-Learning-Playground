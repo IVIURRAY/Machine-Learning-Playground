{
 "cells": [
  {
   "cell_type": "code",
   "execution_count": 1,
   "metadata": {},
   "outputs": [
    {
     "data": {
      "text/plain": [
       "'\\nStep 1\\nConvolution - Take a big matrix of pixels and simply it down to smaller matrix.\\n    This is called a feature map. Big image and matrix of pixels, take a rolling\\n    window of 3x3 and sum pixels and then it creates a feature map and in turn\\n    a smaller matrix.\\n    \\n    Take many feature maps by trying to identify different features.\\n    This makes lots of convolutional layers, then we can work out what features\\n    make up this image.\\n    \\n     Convulations/ this process is also used for bluring and sharpening images.\\n     As we apply different convulation matrixes to the original image and it\\n     will change how the image looks.\\n     \\n     Google: Feature detectors.\\n\\nStep 2\\nMax Pooling/Down smapling - Attempts to find the generic features in images to\\n    identify features.\\n    Otherwise, things like lighting, shaddow and angle of head would throw off \\n    result that we put into the network.\\n    Similar process to convluation but operates on feature maps. \\n    Take the max value to avoid image distortion/lighting/shaddow (mroe generic).\\n    \\n    Google: scs.ryerson.ca/~aharley/vis/conv/flat.html\\n    \\nStep 3\\nFlattening - Take the pooled feature map and turn into a 1xN array. Vector of inputs.\\n\\nStep 4 \\nFull Connection - Use the flattening arrays as input to the network.\\n\\n\\nSoftmax & Cross-Entropy - Bring output values between 0-1 to get a probability.\\n'"
      ]
     },
     "execution_count": 1,
     "metadata": {},
     "output_type": "execute_result"
    }
   ],
   "source": [
    "'''\n",
    "Step 1\n",
    "Convolution - Take a big matrix of pixels and simply it down to smaller matrix.\n",
    "    This is called a feature map. Big image and matrix of pixels, take a rolling\n",
    "    window of 3x3 and sum pixels and then it creates a feature map and in turn\n",
    "    a smaller matrix.\n",
    "    \n",
    "    Take many feature maps by trying to identify different features.\n",
    "    This makes lots of convolutional layers, then we can work out what features\n",
    "    make up this image.\n",
    "    \n",
    "     Convulations/ this process is also used for bluring and sharpening images.\n",
    "     As we apply different convulation matrixes to the original image and it\n",
    "     will change how the image looks.\n",
    "     \n",
    "     Google: Feature detectors.\n",
    "\n",
    "Step 2\n",
    "Max Pooling/Down smapling - Attempts to find the generic features in images to\n",
    "    identify features.\n",
    "    Otherwise, things like lighting, shaddow and angle of head would throw off \n",
    "    result that we put into the network.\n",
    "    Similar process to convluation but operates on feature maps. \n",
    "    Take the max value to avoid image distortion/lighting/shaddow (mroe generic).\n",
    "    \n",
    "    Google: scs.ryerson.ca/~aharley/vis/conv/flat.html\n",
    "    \n",
    "Step 3\n",
    "Flattening - Take the pooled feature map and turn into a 1xN array. Vector of inputs.\n",
    "\n",
    "Step 4 \n",
    "Full Connection - Use the flattening arrays as input to the network.\n",
    "\n",
    "\n",
    "Softmax & Cross-Entropy - Bring output values between 0-1 to get a probability.\n",
    "'''"
   ]
  },
  {
   "cell_type": "code",
   "execution_count": 2,
   "metadata": {},
   "outputs": [
    {
     "name": "stderr",
     "output_type": "stream",
     "text": [
      "h:\\code\\machine-learning\\machine-learning-playground\\.venv\\lib\\site-packages\\tensorflow\\python\\framework\\dtypes.py:516: FutureWarning: Passing (type, 1) or '1type' as a synonym of type is deprecated; in a future version of numpy, it will be understood as (type, (1,)) / '(1,)type'.\n",
      "  _np_qint8 = np.dtype([(\"qint8\", np.int8, 1)])\n",
      "h:\\code\\machine-learning\\machine-learning-playground\\.venv\\lib\\site-packages\\tensorflow\\python\\framework\\dtypes.py:517: FutureWarning: Passing (type, 1) or '1type' as a synonym of type is deprecated; in a future version of numpy, it will be understood as (type, (1,)) / '(1,)type'.\n",
      "  _np_quint8 = np.dtype([(\"quint8\", np.uint8, 1)])\n",
      "h:\\code\\machine-learning\\machine-learning-playground\\.venv\\lib\\site-packages\\tensorflow\\python\\framework\\dtypes.py:518: FutureWarning: Passing (type, 1) or '1type' as a synonym of type is deprecated; in a future version of numpy, it will be understood as (type, (1,)) / '(1,)type'.\n",
      "  _np_qint16 = np.dtype([(\"qint16\", np.int16, 1)])\n",
      "h:\\code\\machine-learning\\machine-learning-playground\\.venv\\lib\\site-packages\\tensorflow\\python\\framework\\dtypes.py:519: FutureWarning: Passing (type, 1) or '1type' as a synonym of type is deprecated; in a future version of numpy, it will be understood as (type, (1,)) / '(1,)type'.\n",
      "  _np_quint16 = np.dtype([(\"quint16\", np.uint16, 1)])\n",
      "h:\\code\\machine-learning\\machine-learning-playground\\.venv\\lib\\site-packages\\tensorflow\\python\\framework\\dtypes.py:520: FutureWarning: Passing (type, 1) or '1type' as a synonym of type is deprecated; in a future version of numpy, it will be understood as (type, (1,)) / '(1,)type'.\n",
      "  _np_qint32 = np.dtype([(\"qint32\", np.int32, 1)])\n",
      "h:\\code\\machine-learning\\machine-learning-playground\\.venv\\lib\\site-packages\\tensorflow\\python\\framework\\dtypes.py:525: FutureWarning: Passing (type, 1) or '1type' as a synonym of type is deprecated; in a future version of numpy, it will be understood as (type, (1,)) / '(1,)type'.\n",
      "  np_resource = np.dtype([(\"resource\", np.ubyte, 1)])\n",
      "h:\\code\\machine-learning\\machine-learning-playground\\.venv\\lib\\site-packages\\tensorboard\\compat\\tensorflow_stub\\dtypes.py:541: FutureWarning: Passing (type, 1) or '1type' as a synonym of type is deprecated; in a future version of numpy, it will be understood as (type, (1,)) / '(1,)type'.\n",
      "  _np_qint8 = np.dtype([(\"qint8\", np.int8, 1)])\n",
      "h:\\code\\machine-learning\\machine-learning-playground\\.venv\\lib\\site-packages\\tensorboard\\compat\\tensorflow_stub\\dtypes.py:542: FutureWarning: Passing (type, 1) or '1type' as a synonym of type is deprecated; in a future version of numpy, it will be understood as (type, (1,)) / '(1,)type'.\n",
      "  _np_quint8 = np.dtype([(\"quint8\", np.uint8, 1)])\n",
      "h:\\code\\machine-learning\\machine-learning-playground\\.venv\\lib\\site-packages\\tensorboard\\compat\\tensorflow_stub\\dtypes.py:543: FutureWarning: Passing (type, 1) or '1type' as a synonym of type is deprecated; in a future version of numpy, it will be understood as (type, (1,)) / '(1,)type'.\n",
      "  _np_qint16 = np.dtype([(\"qint16\", np.int16, 1)])\n",
      "h:\\code\\machine-learning\\machine-learning-playground\\.venv\\lib\\site-packages\\tensorboard\\compat\\tensorflow_stub\\dtypes.py:544: FutureWarning: Passing (type, 1) or '1type' as a synonym of type is deprecated; in a future version of numpy, it will be understood as (type, (1,)) / '(1,)type'.\n",
      "  _np_quint16 = np.dtype([(\"quint16\", np.uint16, 1)])\n",
      "h:\\code\\machine-learning\\machine-learning-playground\\.venv\\lib\\site-packages\\tensorboard\\compat\\tensorflow_stub\\dtypes.py:545: FutureWarning: Passing (type, 1) or '1type' as a synonym of type is deprecated; in a future version of numpy, it will be understood as (type, (1,)) / '(1,)type'.\n",
      "  _np_qint32 = np.dtype([(\"qint32\", np.int32, 1)])\n",
      "h:\\code\\machine-learning\\machine-learning-playground\\.venv\\lib\\site-packages\\tensorboard\\compat\\tensorflow_stub\\dtypes.py:550: FutureWarning: Passing (type, 1) or '1type' as a synonym of type is deprecated; in a future version of numpy, it will be understood as (type, (1,)) / '(1,)type'.\n",
      "  np_resource = np.dtype([(\"resource\", np.ubyte, 1)])\n"
     ]
    }
   ],
   "source": [
    "# Import librarys\n",
    "import tensorflow\n",
    "from tensorflow.keras.models import Sequential\n",
    "from tensorflow.keras.layers import Dense\n",
    "from tensorflow.keras.layers import Convolution2D\n",
    "from tensorflow.keras.layers import MaxPooling2D\n",
    "from tensorflow.keras.layers import Flatten\n",
    "from tensorflow.keras.preprocessing.image import ImageDataGenerator\n",
    "\n",
    "IMG_SIZE = 64"
   ]
  },
  {
   "cell_type": "code",
   "execution_count": 3,
   "metadata": {},
   "outputs": [],
   "source": [
    "# Initialising the CNN\n",
    "model = Sequential()"
   ]
  },
  {
   "cell_type": "code",
   "execution_count": 4,
   "metadata": {},
   "outputs": [
    {
     "name": "stderr",
     "output_type": "stream",
     "text": [
      "WARNING: Logging before flag parsing goes to stderr.\n",
      "W0802 16:40:52.703284 13268 deprecation.py:506] From h:\\code\\machine-learning\\machine-learning-playground\\.venv\\lib\\site-packages\\tensorflow\\python\\ops\\init_ops.py:1251: calling VarianceScaling.__init__ (from tensorflow.python.ops.init_ops) with dtype is deprecated and will be removed in a future version.\n",
      "Instructions for updating:\n",
      "Call initializer instance with the dtype argument instead of passing it to the constructor\n"
     ]
    }
   ],
   "source": [
    "# Step 1 - Convolution\n",
    "# help(Convolution2D)\n",
    "model.add(\n",
    "    Convolution2D(\n",
    "        filters=32, # how many feature maps we want\n",
    "        kernel_size=3, # size of rolling window\n",
    "        input_shape=(IMG_SIZE, IMG_SIZE, 3), # tje shape and RGB of the images\n",
    "        activation='relu', # activation function\n",
    "    )\n",
    ")"
   ]
  },
  {
   "cell_type": "code",
   "execution_count": 5,
   "metadata": {},
   "outputs": [],
   "source": [
    "# Step 2 - Pooling\n",
    "# help(MaxPooling2D)\n",
    "model.add(\n",
    "    MaxPooling2D(\n",
    "        pool_size=(2, 2), # half on x & y the feature maps to pooling martix\n",
    "    )\n",
    ")"
   ]
  },
  {
   "cell_type": "code",
   "execution_count": 6,
   "metadata": {},
   "outputs": [],
   "source": [
    "# Step 3 - Flattening\n",
    "# help(Flatten\n",
    "model.add(Flatten())"
   ]
  },
  {
   "cell_type": "code",
   "execution_count": 7,
   "metadata": {},
   "outputs": [],
   "source": [
    "# Step 4 - Full Connection\n",
    "# help(Dense)\n",
    "model.add(\n",
    "    Dense(\n",
    "        128, # number of neurons (~average between no inputs and outcomes)\n",
    "        activation='relu', # activation function\n",
    "    )\n",
    ")"
   ]
  },
  {
   "cell_type": "code",
   "execution_count": 8,
   "metadata": {},
   "outputs": [],
   "source": [
    "# Output layer\n",
    "model.add(\n",
    "    Dense(\n",
    "        1, # number of neurons (~average between no inputs and outcomes)\n",
    "        activation='sigmoid', # activation function - binary func\n",
    "    )\n",
    ")"
   ]
  },
  {
   "cell_type": "code",
   "execution_count": 9,
   "metadata": {},
   "outputs": [
    {
     "name": "stderr",
     "output_type": "stream",
     "text": [
      "W0802 16:40:52.818283 13268 deprecation.py:323] From h:\\code\\machine-learning\\machine-learning-playground\\.venv\\lib\\site-packages\\tensorflow\\python\\ops\\nn_impl.py:180: add_dispatch_support.<locals>.wrapper (from tensorflow.python.ops.array_ops) is deprecated and will be removed in a future version.\n",
      "Instructions for updating:\n",
      "Use tf.where in 2.0, which has the same broadcast rule as np.where\n"
     ]
    }
   ],
   "source": [
    "# Compiling the CNN\n",
    "model.compile(\n",
    "    optimizer='adam', # how to optimse the netwrok\n",
    "    loss='binary_crossentropy', # loss function\n",
    "    metrics=['accuracy'] # what we're interested in\n",
    ")"
   ]
  },
  {
   "cell_type": "code",
   "execution_count": null,
   "metadata": {},
   "outputs": [
    {
     "name": "stdout",
     "output_type": "stream",
     "text": [
      "Found 8000 images belonging to 2 classes.\n",
      "Found 8000 images belonging to 2 classes.\n",
      "Epoch 1/25\n",
      "2546/8000 [========>.....................] - ETA: 9:29 - loss: 0.5276 - acc: 0.729"
     ]
    }
   ],
   "source": [
    "# Fitting the CNN to the images\n",
    "# changes the images to stop overfitting - like stretching, rotating and zooming images. \n",
    "train_datagen = ImageDataGenerator(\n",
    "        rescale=1./255,\n",
    "        shear_range=0.2,\n",
    "        zoom_range=0.2,\n",
    "        horizontal_flip=True)\n",
    "\n",
    "test_datagen = ImageDataGenerator(rescale=1./255)\n",
    "\n",
    "\n",
    "root = 'H:/Code/machine-learning/Machine-Learning-Playground/1.0 - Example Data/Part 8 - Deep Learning/Convolutional_Neural_Networks/'\n",
    "training_set = train_datagen.flow_from_directory(\n",
    "        root + 'dataset/training_set',\n",
    "        target_size=(IMG_SIZE, IMG_SIZE),\n",
    "        batch_size=32,\n",
    "        class_mode='binary'\n",
    ")\n",
    "\n",
    "test_set = test_datagen.flow_from_directory(\n",
    "        root + 'dataset/training_set',\n",
    "        target_size=(IMG_SIZE, IMG_SIZE),\n",
    "        batch_size=32,\n",
    "        class_mode='binary'\n",
    ")\n",
    "\n",
    "# THIS TAKES LIKE >20mins!!!\n",
    "model.fit_generator(\n",
    "        training_set,\n",
    "        steps_per_epoch=8000,\n",
    "        epochs=25,\n",
    "        validation_data=test_set,\n",
    "        validation_steps=2000\n",
    ")"
   ]
  }
 ],
 "metadata": {
  "kernelspec": {
   "display_name": ".venv",
   "language": "python",
   "name": ".venv"
  },
  "language_info": {
   "codemirror_mode": {
    "name": "ipython",
    "version": 3
   },
   "file_extension": ".py",
   "mimetype": "text/x-python",
   "name": "python",
   "nbconvert_exporter": "python",
   "pygments_lexer": "ipython3",
   "version": "3.6.8"
  }
 },
 "nbformat": 4,
 "nbformat_minor": 2
}
