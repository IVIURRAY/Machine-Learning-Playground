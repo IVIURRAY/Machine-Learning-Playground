{
 "cells": [
  {
   "cell_type": "code",
   "execution_count": null,
   "metadata": {},
   "outputs": [],
   "source": [
    "# Import Librarys\n",
    "import numpy as np\n",
    "import matplotlib.pyplot as plt\n",
    "import pandas as pd\n",
    "from sklearn.model_selection import train_test_split\n",
    "from sklearn.preprocessing import StandardScaler\n",
    "from sklearn.linear_model import LogisticRegression\n",
    "from sklearn.metrics import confusion_matrix"
   ]
  },
  {
   "cell_type": "code",
   "execution_count": null,
   "metadata": {},
   "outputs": [],
   "source": [
    "# Import the dataset\n",
    "root = '/Users/Haydn/Documents/Code/Jupyter/Machine Learning A-Z/1.0 - Example Data/'\n",
    "data_file = root + 'Part 3 - Classification/Logistic Regression/Social_Network_Ads.csv'\n",
    "dataset = pd.read_csv(data_file)\n",
    "\n",
    "'''\n",
    "We want to find the correlation between this data set and their likelhood\n",
    "of making the purchase.\n",
    "'''\n",
    "dataset"
   ]
  },
  {
   "cell_type": "code",
   "execution_count": null,
   "metadata": {},
   "outputs": [],
   "source": [
    "x = dataset.iloc[:, [2, 3]].values # age and salary\n",
    "y = dataset.iloc[:, 4].values # purchased?"
   ]
  },
  {
   "cell_type": "code",
   "execution_count": null,
   "metadata": {},
   "outputs": [],
   "source": [
    "# Split dataset into train and test\n",
    "x_train, x_test, y_train, y_test = train_test_split(x, y, test_size=0.25, random_state=0)\n",
    "print('X Training Size: %s\\n' % len(x_train), x_train, '\\nX Test Size: %s\\n' % len(x_test), x_test, '\\nY Training Size: %s\\n' % len(y_train), y_train, '\\nY Test Size: %s\\n' % len(y_test), y_test)"
   ]
  },
  {
   "cell_type": "code",
   "execution_count": null,
   "metadata": {},
   "outputs": [],
   "source": [
    "# Feature scaling\n",
    "sc_x = StandardScaler()\n",
    "x_train = sc_x.fit_transform(x_train)\n",
    "x_test = sc_x.transform(x_test)\n",
    "x_train"
   ]
  },
  {
   "cell_type": "code",
   "execution_count": null,
   "metadata": {},
   "outputs": [],
   "source": [
    "# INSERT CLASSIFICATION MODEL HERE!"
   ]
  },
  {
   "cell_type": "code",
   "execution_count": null,
   "metadata": {},
   "outputs": [],
   "source": [
    "# Predict the test results\n",
    "y_predictions = classifier.predict(x_test)\n",
    "y_predictions"
   ]
  },
  {
   "cell_type": "code",
   "execution_count": null,
   "metadata": {},
   "outputs": [],
   "source": [
    "# Lets check the results...evaluation time\n",
    "matrix = confusion_matrix(y_test, y_predictions)\n",
    "print('Right preditions:', matrix[0][0] + matrix[1][1])\n",
    "print('Wrong preditions:', matrix[0][1] + matrix[1][0])\n",
    "matrix"
   ]
  },
  {
   "cell_type": "code",
   "execution_count": null,
   "metadata": {},
   "outputs": [],
   "source": [
    "# Graph it...Training Set\n",
    "from matplotlib.colors import ListedColormap\n",
    "plt.figure(figsize=(18, 16), dpi= 80, facecolor='w', edgecolor='k') # this makes the graph bigger...\n",
    "x_set, y_set = x_train, y_train\n",
    "x1, x2 = np.meshgrid(\n",
    "    np.arange(start=x_set[:, 0].min() - 1, stop=x_set[:, 0].max() + 1, step=0.01),\n",
    "    np.arange(start=x_set[:, 0].min() - 1, stop=x_set[:, 0].max() + 1, step=0.01)\n",
    ")\n",
    "plt.contourf(\n",
    "    x1, \n",
    "    x2, \n",
    "    classifier.predict(np.array([x1.ravel(), x2.ravel()]).T).reshape(x1.shape),\n",
    "    alpha=0.75,\n",
    "    cmap=ListedColormap(['red', 'green'])\n",
    ")\n",
    "plt.xlim(x1.min(), x1.max())\n",
    "plt.ylim(x2.min(), x2.max())\n",
    "for i, j in enumerate(np.unique(y_set)):\n",
    "    plt.scatter(\n",
    "        x_set[y_set==j, 0],\n",
    "        x_set[y_set==j, 1],\n",
    "        c=ListedColormap(['red', 'green'])(i),\n",
    "        label=j\n",
    "    )\n",
    "plt.title('Logistic Regression (Training Set)')\n",
    "plt.xlabel('Age')\n",
    "plt.ylabel('Estimated Salary')\n",
    "plt.legend()\n",
    "plt.show()"
   ]
  },
  {
   "cell_type": "code",
   "execution_count": null,
   "metadata": {},
   "outputs": [],
   "source": [
    "# Test Set Predictions\n",
    "plt.figure(figsize=(18, 16), dpi= 80, facecolor='w', edgecolor='k') # this makes the graph bigger...\n",
    "x_set, y_set = x_test, y_test\n",
    "x1, x2 = np.meshgrid(\n",
    "    np.arange(start=x_set[:, 0].min() - 1, stop=x_set[:, 0].max() + 1, step=0.01),\n",
    "    np.arange(start=x_set[:, 0].min() - 1, stop=x_set[:, 0].max() + 1, step=0.01)\n",
    ")\n",
    "plt.contourf(\n",
    "    x1, \n",
    "    x2, \n",
    "    classifier.predict(np.array([x1.ravel(), x2.ravel()]).T).reshape(x1.shape),\n",
    "    alpha=0.76,\n",
    "    cmap=ListedColormap(['red', 'green'])\n",
    ")\n",
    "plt.xlim(x1.min(), x1.max())\n",
    "plt.ylim(x2.min(), x2.max())\n",
    "for i, j in enumerate(np.unique(y_set)):\n",
    "    plt.scatter(\n",
    "        x_set[y_set==j, 0],\n",
    "        x_set[y_set==j, 1],\n",
    "        c=ListedColormap(['red', 'green'])(i),\n",
    "        label=j\n",
    "    )\n",
    "plt.title('Logistic Regression (Test Set)')\n",
    "plt.xlabel('Age')\n",
    "plt.ylabel('Estimated Salary')\n",
    "plt.legend()\n",
    "plt.show()"
   ]
  }
 ],
 "metadata": {
  "kernelspec": {
   "display_name": ".venv",
   "language": "python",
   "name": ".venv"
  },
  "language_info": {
   "codemirror_mode": {
    "name": "ipython",
    "version": 3
   },
   "file_extension": ".py",
   "mimetype": "text/x-python",
   "name": "python",
   "nbconvert_exporter": "python",
   "pygments_lexer": "ipython3",
   "version": "3.6.7"
  }
 },
 "nbformat": 4,
 "nbformat_minor": 2
}
